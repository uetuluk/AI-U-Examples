{
  "nbformat": 4,
  "nbformat_minor": 0,
  "metadata": {
    "colab": {
      "provenance": [],
      "gpuType": "T4",
      "private_outputs": true
    },
    "kernelspec": {
      "name": "python3",
      "display_name": "Python 3"
    },
    "language_info": {
      "name": "python"
    },
    "accelerator": "GPU"
  },
  "cells": [
    {
      "cell_type": "markdown",
      "source": [
        "## Setup environment"
      ],
      "metadata": {
        "id": "zhXPS75JocTJ"
      }
    },
    {
      "cell_type": "code",
      "execution_count": null,
      "metadata": {
        "id": "KlI04lSCl3T9"
      },
      "outputs": [],
      "source": [
        "!CMAKE_ARGS=\"-DLLAMA_CUBLAS=ON\" pip install llama-cpp-python"
      ]
    },
    {
      "cell_type": "markdown",
      "source": [
        "Download model. For this example, we are using Mistral 7B Instruct."
      ],
      "metadata": {
        "id": "kLzteE_ukVBK"
      }
    },
    {
      "cell_type": "code",
      "source": [
        "!wget https://huggingface.co/TheBloke/Mistral-7B-Instruct-v0.2-GGUF/resolve/main/mistral-7b-instruct-v0.2.Q6_K.gguf"
      ],
      "metadata": {
        "id": "TCsMLVeVkUot"
      },
      "execution_count": null,
      "outputs": []
    },
    {
      "cell_type": "markdown",
      "source": [],
      "metadata": {
        "id": "EOC8x0up49o9"
      }
    },
    {
      "cell_type": "markdown",
      "source": [
        "## Setup simulation"
      ],
      "metadata": {
        "id": "OraomVdhvpYZ"
      }
    },
    {
      "cell_type": "code",
      "source": [
        "class GridSimulation:\n",
        "    def __init__(self):\n",
        "        # Initialize the grid as a 4x4 list of lists filled with 0s\n",
        "        self.grid = [[0 for _ in range(4)] for _ in range(4)]\n",
        "        # Place the user agent at row 1, column 1 (0-indexed)\n",
        "        self.user_row = 0\n",
        "        self.user_col = 0\n",
        "        # Set the goal at row 4, column 4 (3-indexed)\n",
        "        self.goal_row = 3\n",
        "        self.goal_col = 3\n",
        "        self.simulation_completed = False\n",
        "        self.update_grid()\n",
        "\n",
        "    def update_grid(self):\n",
        "        \"\"\"Updates the grid to reflect the current positions of the user agent and goal.\"\"\"\n",
        "        if self.user_row == self.goal_row and self.user_col == self.goal_col:\n",
        "            self.simulation_completed = True\n",
        "        else:\n",
        "            for r in range(4):\n",
        "                for c in range(4):\n",
        "                    self.grid[r][c] = 0  # Reset grid\n",
        "            self.grid[self.user_row][self.user_col] = 1  # Mark the user agent's position\n",
        "            self.grid[self.goal_row][self.goal_col] = 2  # Mark the goal's position\n",
        "\n",
        "    def move(self, direction):\n",
        "        \"\"\"Moves the user agent in the specified direction if the move is legal.\"\"\"\n",
        "\n",
        "        if self.simulation_completed:\n",
        "            return \"Simulation already completed.\"\n",
        "\n",
        "        new_row, new_col = self.user_row, self.user_col\n",
        "\n",
        "        if direction == \"left\":\n",
        "            new_col -= 1\n",
        "        elif direction == \"right\":\n",
        "            new_col += 1\n",
        "        elif direction == \"top\":\n",
        "            new_row -= 1\n",
        "        elif direction == \"bottom\":\n",
        "            new_row += 1\n",
        "        else:\n",
        "            return \"Invalid direction. Please choose left, right, top, or bottom.\"\n",
        "\n",
        "        # Check if the new position is within the grid boundaries\n",
        "        if 0 <= new_row < 4 and 0 <= new_col < 4:\n",
        "            # Update the user's position\n",
        "            self.user_row, self.user_col = new_row, new_col\n",
        "        else:\n",
        "            # Illegal move, do not update the user's position\n",
        "            return \"Illegal move: Cannot move outside the grid.\"\n",
        "\n",
        "        # Place the user agent in the new position\n",
        "        self.grid[self.user_row][self.user_col] = 1\n",
        "        self.grid[self.goal_row][self.goal_col] = 2  # Ensure the goal's position remains marked with a 2\n",
        "\n",
        "        self.update_grid()\n",
        "        return self.get_state()\n",
        "\n",
        "    def get_state(self):\n",
        "        \"\"\"Returns the current state of the grid.\"\"\"\n",
        "        if self.simulation_completed:\n",
        "            return \"Simulation completed.\"\n",
        "        else:\n",
        "            return '\\n'.join([' '.join([str(cell) for cell in row]) for row in self.grid])\n",
        "            # return f\"User location: ({self.user_col}, {self.user_row}), Goal location: ({self.goal_col}, {self.goal_row})\"\n"
      ],
      "metadata": {
        "id": "_0ypF9iCvo38"
      },
      "execution_count": null,
      "outputs": []
    },
    {
      "cell_type": "markdown",
      "source": [
        "## Setup agent to run the simulation"
      ],
      "metadata": {
        "id": "rBS8vTgdzB_I"
      }
    },
    {
      "cell_type": "code",
      "source": [
        "from llama_cpp import Llama\n",
        "\n",
        "llm = Llama(model_path=\"./mistral-7b-instruct-v0.2.Q6_K.gguf\", n_ctx=8192, use_mlock=True, n_gpu_layers=33, embedding=False)"
      ],
      "metadata": {
        "id": "NzL3sW3g9sxL"
      },
      "execution_count": null,
      "outputs": []
    },
    {
      "cell_type": "code",
      "source": [
        "tools = [\n",
        "    {\n",
        "        \"type\": \"function\",\n",
        "        \"function\": {\n",
        "            \"name\": \"get_state\",\n",
        "            \"description\": \"Retrieves the current state of the grid simulation. If the simulation is not completed, it returns a visual representation of the grid with the user agent and goal positions. If the simulation is completed, it returns a message indicating completion.\",\n",
        "            \"parameters\": {}\n",
        "        }\n",
        "    },\n",
        "    {\n",
        "        \"type\": \"function\",\n",
        "        \"function\": {\n",
        "            \"name\": \"move\",\n",
        "            \"description\": \"Moves the user agent in a specified direction on the grid. The method updates the user agent's position and checks for a win condition. If the move is illegal or outside the grid boundaries, it returns an error message. If the move leads to the user agent reaching the goal, it completes the simulation.\",\n",
        "            \"parameters\": {\n",
        "                \"type\": \"object\",\n",
        "                \"title\": \"move\",\n",
        "                \"properties\": {\n",
        "                    \"direction\": {\n",
        "                        \"title\": \"Direction\",\n",
        "                        \"type\": \"string\",\n",
        "                        \"enum\": [\"left\", \"right\", \"top\", \"bottom\"],\n",
        "                        \"description\": \"The direction in which to move the user agent. Valid options are 'left', 'right', 'top', or 'bottom'.\"\n",
        "                    }\n",
        "                },\n",
        "                \"required\": [\"direction\"]\n",
        "            }\n",
        "        }\n",
        "    }\n",
        "]"
      ],
      "metadata": {
        "id": "fwMocTnKTsiX"
      },
      "execution_count": null,
      "outputs": []
    },
    {
      "cell_type": "code",
      "source": [
        "tool_format={\n",
        "        \"type\": \"json_object\",\n",
        "        \"schema\": {\n",
        "  \"type\": \"object\",\n",
        "  \"properties\": {\n",
        "    \"function\": {\n",
        "      \"type\": \"string\",\n",
        "      \"enum\": [\"get_state\", \"move\"]\n",
        "    },\n",
        "    \"parameters\": {\n",
        "      \"type\": \"object\",\n",
        "      \"properties\": {\n",
        "        \"direction\": {\n",
        "          \"type\": \"string\",\n",
        "          \"enum\": [\"top\", \"bottom\", \"left\", \"right\" ]\n",
        "        }\n",
        "      },\n",
        "      \"required\": [\"direction\"],\n",
        "    }\n",
        "  },\n",
        "  \"required\": [\"function\"],\n",
        "  \"if\": {\n",
        "    \"properties\": { \"function\": { \"const\": \"move\" } }\n",
        "  },\n",
        "  \"then\": {\n",
        "    \"required\": [\"parameters\"]\n",
        "  },\n",
        "  \"else\": {\n",
        "    \"not\": {\n",
        "      \"required\": [\"parameters\"]\n",
        "    }\n",
        "  }\n",
        "},\n",
        "    }\n"
      ],
      "metadata": {
        "id": "ZiRTS1JI6-fY"
      },
      "execution_count": null,
      "outputs": []
    },
    {
      "cell_type": "code",
      "source": [],
      "metadata": {
        "id": "q9jKcfP88AKw"
      },
      "execution_count": null,
      "outputs": []
    },
    {
      "cell_type": "code",
      "source": [
        "simulation = GridSimulation()"
      ],
      "metadata": {
        "id": "_acJsrQDUZT-"
      },
      "execution_count": null,
      "outputs": []
    },
    {
      "cell_type": "code",
      "source": [
        "llm.create_chat_completion(\n",
        "      messages = [\n",
        "        {\n",
        "          \"role\": \"system\",\n",
        "          \"content\": \"The assistant has to solve the task given by the user. The assistant calls functions with appropriate input when necessary to solve the task. Assistant uses JSON to choose tools.\"\n",
        "        },\n",
        "        {\n",
        "          \"role\": \"user\",\n",
        "          \"content\": \"Complete the simulation by taking 1 to 2 with the given tools. You can use get_state to get the state of the simulation and move to move inside the simulation.\"\n",
        "        }\n",
        "      ],\n",
        "      response_format=tool_format\n",
        ")"
      ],
      "metadata": {
        "id": "HL6ELBsXy3HL"
      },
      "execution_count": null,
      "outputs": []
    },
    {
      "cell_type": "code",
      "source": [
        "import json\n",
        "\n",
        "def run_conversation(messages, simulation):\n",
        "\n",
        "    runs = []\n",
        "    ideas = []\n",
        "    complete = False\n",
        "\n",
        "    response = llm.create_chat_completion(\n",
        "      messages = messages,\n",
        "      response_format=tool_format\n",
        "    )\n",
        "\n",
        "    response_message = response.get(\"choices\")[0].get(\"message\")\n",
        "    response_message_content = response_message.get(\"content\")\n",
        "\n",
        "    try:\n",
        "      tool_call = json.loads(response_message_content)\n",
        "    except:\n",
        "      tool_call = None\n",
        "      messages.append(response_message)\n",
        "      messages.append({\n",
        "          \"role\": \"user\",\n",
        "          \"content\": \"Wrong JSON format.\"\n",
        "      })\n",
        "\n",
        "    if tool_call:\n",
        "\n",
        "      ideas.append(response_message)\n",
        "\n",
        "      available_functions = {\n",
        "          \"get_state\": simulation.get_state,\n",
        "          \"move\": simulation.move\n",
        "      }\n",
        "      messages.append(response_message)\n",
        "\n",
        "      function_name = tool_call.get(\"function\")\n",
        "      function_to_call = available_functions[function_name]\n",
        "\n",
        "      if function_name == \"move\":\n",
        "        function_args = tool_call.get(\"parameters\")\n",
        "        function_response = function_to_call(\n",
        "            direction=function_args.get(\"direction\"),\n",
        "        )\n",
        "      else:\n",
        "        function_response = function_to_call()\n",
        "\n",
        "      runs.append(function_response)\n",
        "\n",
        "      if function_response == \"Simulation completed.\" or function_response == \"Simulation already completed.\":\n",
        "        complete = True\n",
        "\n",
        "      messages.append(\n",
        "          {\n",
        "              \"role\": \"user\",\n",
        "              \"content\": \"Here is the result of the function call:\\n\" + function_response,\n",
        "          }\n",
        "      )\n",
        "\n",
        "    return messages, runs, complete, ideas"
      ],
      "metadata": {
        "id": "S6bRV6NC-NgM"
      },
      "execution_count": null,
      "outputs": []
    },
    {
      "cell_type": "markdown",
      "source": [
        "## Run simulation until complete"
      ],
      "metadata": {
        "id": "4yoNqIix15u2"
      }
    },
    {
      "cell_type": "code",
      "source": [
        "messages = [\n",
        "        {\n",
        "          \"role\": \"system\",\n",
        "          \"content\": \"The assistant has to solve the task given by the user. The assistant calls functions with appropriate input when necessary to solve the task. Assistant uses JSON to choose tools.\"\n",
        "        },\n",
        "        {\n",
        "          \"role\": \"user\",\n",
        "          \"content\": \"Complete the simulation by taking user to goal location with the given tools. You can use `get_state` to get the locations of the user and goal and `move` to move inside the simulation.\\nThe grid is 4x4, so you should move bottom or right to reach goal.\"\n",
        "        }\n",
        "      ]"
      ],
      "metadata": {
        "id": "7satbGUM1dWT"
      },
      "execution_count": null,
      "outputs": []
    },
    {
      "cell_type": "code",
      "source": [
        "simulation = GridSimulation()"
      ],
      "metadata": {
        "id": "lGCKbWO-4Jtd"
      },
      "execution_count": null,
      "outputs": []
    },
    {
      "cell_type": "code",
      "source": [
        "for i in range(0,30):\n",
        "  print(\"## Thinking for step\", i, \"\\n\")\n",
        "  messages, runs, complete, ideas = run_conversation(messages, simulation)\n",
        "  # for idea in ideas:\n",
        "  #   print(\"## Local LLM thought\\n\")\n",
        "  #   print(idea.get(\"content\"))\n",
        "  for run in runs:\n",
        "    print(\"## Simulation step\\n\")\n",
        "    print(run)\n",
        "  if complete:\n",
        "    break"
      ],
      "metadata": {
        "id": "i0rNjwYp170m"
      },
      "execution_count": null,
      "outputs": []
    },
    {
      "cell_type": "code",
      "source": [
        "messages"
      ],
      "metadata": {
        "id": "cmeTzc-2-ICE"
      },
      "execution_count": null,
      "outputs": []
    },
    {
      "cell_type": "code",
      "source": [],
      "metadata": {
        "id": "lPI6iERDBRe9"
      },
      "execution_count": null,
      "outputs": []
    }
  ]
}