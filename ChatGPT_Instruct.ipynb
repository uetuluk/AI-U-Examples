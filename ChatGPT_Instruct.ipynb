{
  "nbformat": 4,
  "nbformat_minor": 0,
  "metadata": {
    "colab": {
      "provenance": [],
      "gpuType": "T4"
    },
    "kernelspec": {
      "name": "python3",
      "display_name": "Python 3"
    },
    "language_info": {
      "name": "python"
    },
    "accelerator": "GPU"
  },
  "cells": [
    {
      "cell_type": "markdown",
      "source": [
        "## Setup environment"
      ],
      "metadata": {
        "id": "zhXPS75JocTJ"
      }
    },
    {
      "cell_type": "code",
      "execution_count": null,
      "metadata": {
        "id": "KlI04lSCl3T9"
      },
      "outputs": [],
      "source": [
        "!pip install openai"
      ]
    },
    {
      "cell_type": "markdown",
      "source": [
        "Setup your chatgpt key"
      ],
      "metadata": {
        "id": "kLzteE_ukVBK"
      }
    },
    {
      "cell_type": "code",
      "source": [
        "import os\n",
        "\n",
        "# Prompt the user for their API key\n",
        "api_key = input(\"Please enter your OpenAI API key: \")\n",
        "\n",
        "# Store the API key in the environment variable\n",
        "os.environ[\"OPENAI_API_KEY\"] = api_key"
      ],
      "metadata": {
        "id": "TCsMLVeVkUot"
      },
      "execution_count": null,
      "outputs": []
    },
    {
      "cell_type": "markdown",
      "source": [
        "## Setup simulation"
      ],
      "metadata": {
        "id": "OraomVdhvpYZ"
      }
    },
    {
      "cell_type": "code",
      "source": [
        "class GridSimulation:\n",
        "    def __init__(self):\n",
        "        # Initialize the grid as a 4x4 list of lists filled with 0s\n",
        "        self.grid = [[0 for _ in range(4)] for _ in range(4)]\n",
        "        # Place the user agent at row 1, column 1 (0-indexed)\n",
        "        self.user_row = 0\n",
        "        self.user_col = 0\n",
        "        # Set the goal at row 4, column 4 (3-indexed)\n",
        "        self.goal_row = 3\n",
        "        self.goal_col = 3\n",
        "        self.simulation_completed = False\n",
        "        self.update_grid()\n",
        "\n",
        "    def update_grid(self):\n",
        "        \"\"\"Updates the grid to reflect the current positions of the user agent and goal.\"\"\"\n",
        "        if self.user_row == self.goal_row and self.user_col == self.goal_col:\n",
        "            self.simulation_completed = True\n",
        "        else:\n",
        "            for r in range(4):\n",
        "                for c in range(4):\n",
        "                    self.grid[r][c] = 0  # Reset grid\n",
        "            self.grid[self.user_row][self.user_col] = 1  # Mark the user agent's position\n",
        "            self.grid[self.goal_row][self.goal_col] = 2  # Mark the goal's position\n",
        "\n",
        "    def move(self, direction):\n",
        "        \"\"\"Moves the user agent in the specified direction if the move is legal.\"\"\"\n",
        "\n",
        "        if self.simulation_completed:\n",
        "            return \"Simulation already completed.\"\n",
        "\n",
        "        new_row, new_col = self.user_row, self.user_col\n",
        "\n",
        "        if direction == \"left\":\n",
        "            new_col -= 1\n",
        "        elif direction == \"right\":\n",
        "            new_col += 1\n",
        "        elif direction == \"top\":\n",
        "            new_row -= 1\n",
        "        elif direction == \"bottom\":\n",
        "            new_row += 1\n",
        "        else:\n",
        "            return \"Invalid direction. Please choose left, right, top, or bottom.\"\n",
        "\n",
        "        # Check if the new position is within the grid boundaries\n",
        "        if 0 <= new_row < 4 and 0 <= new_col < 4:\n",
        "            # Update the user's position\n",
        "            self.user_row, self.user_col = new_row, new_col\n",
        "        else:\n",
        "            # Illegal move, do not update the user's position\n",
        "            return \"Illegal move: Cannot move outside the grid.\"\n",
        "\n",
        "        # Place the user agent in the new position\n",
        "        self.grid[self.user_row][self.user_col] = 1\n",
        "        self.grid[self.goal_row][self.goal_col] = 2  # Ensure the goal's position remains marked with a 2\n",
        "\n",
        "        self.update_grid()\n",
        "        return self.get_state()\n",
        "\n",
        "    def get_state(self):\n",
        "        \"\"\"Returns the current state of the grid.\"\"\"\n",
        "        if self.simulation_completed:\n",
        "            return \"Simulation completed.\"\n",
        "        else:\n",
        "            return '\\n'.join([' '.join([str(cell) for cell in row]) for row in self.grid])"
      ],
      "metadata": {
        "id": "_0ypF9iCvo38"
      },
      "execution_count": null,
      "outputs": []
    },
    {
      "cell_type": "markdown",
      "source": [
        "## Setup agent to run the simulation"
      ],
      "metadata": {
        "id": "rBS8vTgdzB_I"
      }
    },
    {
      "cell_type": "code",
      "source": [
        "from openai import OpenAI\n",
        "import json\n",
        "\n",
        "client = OpenAI()\n",
        "\n",
        "tools = [\n",
        "    {\n",
        "        \"type\": \"function\",\n",
        "        \"function\": {\n",
        "            \"name\": \"get_state\",\n",
        "            \"description\": \"Retrieves the current state of the grid simulation. If the simulation is not completed, it returns a visual representation of the grid with the user agent and goal positions. If the simulation is completed, it returns a message indicating completion.\",\n",
        "            \"parameters\": {}\n",
        "        }\n",
        "    },\n",
        "    {\n",
        "        \"type\": \"function\",\n",
        "        \"function\": {\n",
        "            \"name\": \"move\",\n",
        "            \"description\": \"Moves the user agent in a specified direction on the grid. The method updates the user agent's position and checks for a win condition. If the move is illegal or outside the grid boundaries, it returns an error message. If the move leads to the user agent reaching the goal, it completes the simulation.\",\n",
        "            \"parameters\": {\n",
        "                \"type\": \"object\",\n",
        "                \"properties\": {\n",
        "                    \"direction\": {\n",
        "                        \"type\": \"string\",\n",
        "                        \"enum\": [\"left\", \"right\", \"top\", \"bottom\"],\n",
        "                        \"description\": \"The direction in which to move the user agent. Valid options are 'left', 'right', 'top', or 'bottom'.\"\n",
        "                    }\n",
        "                },\n",
        "                \"required\": [\"direction\"]\n",
        "            }\n",
        "        }\n",
        "    }\n",
        "]\n",
        "\n",
        "def run_conversation(messages, simulation):\n",
        "\n",
        "    runs = []\n",
        "    ideas = []\n",
        "    complete = False\n",
        "\n",
        "    response = client.chat.completions.create(\n",
        "        model=\"gpt-4-turbo-preview\",\n",
        "        messages=messages,\n",
        "        tools=tools,\n",
        "        tool_choice=\"auto\",  # auto is default, but we'll be explicit\n",
        "    )\n",
        "\n",
        "    response_message = response.choices[0].message\n",
        "    tool_calls = response_message.tool_calls\n",
        "\n",
        "    # print(response_message)\n",
        "    ideas.append(response_message)\n",
        "\n",
        "    if tool_calls:\n",
        "        available_functions = {\n",
        "            \"get_state\": simulation.get_state,\n",
        "            \"move\": simulation.move\n",
        "        }\n",
        "        messages.append(response_message)\n",
        "\n",
        "        for tool_call in tool_calls:\n",
        "            function_name = tool_call.function.name\n",
        "            function_to_call = available_functions[function_name]\n",
        "            function_args = json.loads(tool_call.function.arguments)\n",
        "\n",
        "            # print(function_args, function_args.get(\"direction\"), function_to_call)\n",
        "\n",
        "            if function_name == \"move\":\n",
        "              function_response = function_to_call(\n",
        "                  direction=function_args.get(\"direction\"),\n",
        "              )\n",
        "            else:\n",
        "              function_response = function_to_call()\n",
        "\n",
        "            runs.append(function_response)\n",
        "\n",
        "            if function_response == \"Simulation completed.\" or function_response == \"Simulation already completed.\":\n",
        "              complete = True\n",
        "\n",
        "            messages.append(\n",
        "                {\n",
        "                    \"tool_call_id\": tool_call.id,\n",
        "                    \"role\": \"tool\",\n",
        "                    \"name\": function_name,\n",
        "                    \"content\": function_response,\n",
        "                }\n",
        "            )\n",
        "\n",
        "    return messages, runs, complete, ideas"
      ],
      "metadata": {
        "id": "HL6ELBsXy3HL"
      },
      "execution_count": null,
      "outputs": []
    },
    {
      "cell_type": "markdown",
      "source": [
        "## Run simulation until complete"
      ],
      "metadata": {
        "id": "4yoNqIix15u2"
      }
    },
    {
      "cell_type": "code",
      "source": [
        "messages = [{\"role\": \"user\", \"content\": \"Complete the simulation by taking 1 to 2 with the given tools.\"}]"
      ],
      "metadata": {
        "id": "7satbGUM1dWT"
      },
      "execution_count": null,
      "outputs": []
    },
    {
      "cell_type": "code",
      "source": [
        "simulation = GridSimulation()"
      ],
      "metadata": {
        "id": "lGCKbWO-4Jtd"
      },
      "execution_count": null,
      "outputs": []
    },
    {
      "cell_type": "code",
      "source": [
        "for i in range(0,7):\n",
        "  print(\"## Thinking for step\", i, \"\\n\")\n",
        "  messages, runs, complete, ideas = run_conversation(messages, simulation)\n",
        "  for idea in ideas:\n",
        "    print(\"## ChatGPT thought\\n\")\n",
        "    print(idea.content)\n",
        "  for run in runs:\n",
        "    print(\"## Simulation step\\n\")\n",
        "    print(run)\n",
        "  if complete:\n",
        "    break"
      ],
      "metadata": {
        "id": "i0rNjwYp170m"
      },
      "execution_count": null,
      "outputs": []
    },
    {
      "cell_type": "code",
      "source": [],
      "metadata": {
        "id": "NTDnnngS3lhg"
      },
      "execution_count": null,
      "outputs": []
    }
  ]
}