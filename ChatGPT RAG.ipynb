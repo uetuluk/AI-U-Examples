{
  "nbformat": 4,
  "nbformat_minor": 0,
  "metadata": {
    "colab": {
      "provenance": [],
      "gpuType": "T4"
    },
    "kernelspec": {
      "name": "python3",
      "display_name": "Python 3"
    },
    "language_info": {
      "name": "python"
    },
    "widgets": {
      "application/vnd.jupyter.widget-state+json": {
        "cab81d14036748a08ba417515835b2b0": {
          "model_module": "@jupyter-widgets/controls",
          "model_name": "TextareaModel",
          "model_module_version": "2.0.0",
          "state": {
            "_dom_classes": [],
            "_model_module": "@jupyter-widgets/controls",
            "_model_module_version": "2.0.0",
            "_model_name": "TextareaModel",
            "_view_count": null,
            "_view_module": "@jupyter-widgets/controls",
            "_view_module_version": "2.0.0",
            "_view_name": "TextareaView",
            "continuous_update": true,
            "description": "Input:",
            "description_allow_html": false,
            "disabled": false,
            "layout": "IPY_MODEL_1a8fedf021d440c69bb295fad0c42135",
            "placeholder": "Question",
            "rows": null,
            "style": "IPY_MODEL_d0e3521bb8134aa7afcef7e4e821af19",
            "tabbable": null,
            "tooltip": null,
            "value": ""
          }
        },
        "1a8fedf021d440c69bb295fad0c42135": {
          "model_module": "@jupyter-widgets/base",
          "model_name": "LayoutModel",
          "model_module_version": "2.0.0",
          "state": {
            "_model_module": "@jupyter-widgets/base",
            "_model_module_version": "2.0.0",
            "_model_name": "LayoutModel",
            "_view_count": null,
            "_view_module": "@jupyter-widgets/base",
            "_view_module_version": "2.0.0",
            "_view_name": "LayoutView",
            "align_content": null,
            "align_items": null,
            "align_self": null,
            "border_bottom": null,
            "border_left": null,
            "border_right": null,
            "border_top": null,
            "bottom": null,
            "display": null,
            "flex": null,
            "flex_flow": null,
            "grid_area": null,
            "grid_auto_columns": null,
            "grid_auto_flow": null,
            "grid_auto_rows": null,
            "grid_column": null,
            "grid_gap": null,
            "grid_row": null,
            "grid_template_areas": null,
            "grid_template_columns": null,
            "grid_template_rows": null,
            "height": "100px",
            "justify_content": null,
            "justify_items": null,
            "left": null,
            "margin": null,
            "max_height": null,
            "max_width": null,
            "min_height": null,
            "min_width": null,
            "object_fit": null,
            "object_position": null,
            "order": null,
            "overflow": null,
            "padding": null,
            "right": null,
            "top": null,
            "visibility": null,
            "width": "600px"
          }
        },
        "d0e3521bb8134aa7afcef7e4e821af19": {
          "model_module": "@jupyter-widgets/controls",
          "model_name": "TextStyleModel",
          "model_module_version": "2.0.0",
          "state": {
            "_model_module": "@jupyter-widgets/controls",
            "_model_module_version": "2.0.0",
            "_model_name": "TextStyleModel",
            "_view_count": null,
            "_view_module": "@jupyter-widgets/base",
            "_view_module_version": "2.0.0",
            "_view_name": "StyleView",
            "background": null,
            "description_width": "",
            "font_size": null,
            "text_color": null
          }
        },
        "352d767d583541f7a4d1fb12d6ccb325": {
          "model_module": "@jupyter-widgets/controls",
          "model_name": "ButtonModel",
          "model_module_version": "2.0.0",
          "state": {
            "_dom_classes": [],
            "_model_module": "@jupyter-widgets/controls",
            "_model_module_version": "2.0.0",
            "_model_name": "ButtonModel",
            "_view_count": null,
            "_view_module": "@jupyter-widgets/controls",
            "_view_module_version": "2.0.0",
            "_view_name": "ButtonView",
            "button_style": "",
            "description": "Generate",
            "disabled": false,
            "icon": "",
            "layout": "IPY_MODEL_64b62636c95a44a3b38c962b25b97511",
            "style": "IPY_MODEL_966a90bcb308489bbfb7c12f1a50c3de",
            "tabbable": null,
            "tooltip": null
          }
        },
        "64b62636c95a44a3b38c962b25b97511": {
          "model_module": "@jupyter-widgets/base",
          "model_name": "LayoutModel",
          "model_module_version": "2.0.0",
          "state": {
            "_model_module": "@jupyter-widgets/base",
            "_model_module_version": "2.0.0",
            "_model_name": "LayoutModel",
            "_view_count": null,
            "_view_module": "@jupyter-widgets/base",
            "_view_module_version": "2.0.0",
            "_view_name": "LayoutView",
            "align_content": null,
            "align_items": null,
            "align_self": null,
            "border_bottom": null,
            "border_left": null,
            "border_right": null,
            "border_top": null,
            "bottom": null,
            "display": null,
            "flex": null,
            "flex_flow": null,
            "grid_area": null,
            "grid_auto_columns": null,
            "grid_auto_flow": null,
            "grid_auto_rows": null,
            "grid_column": null,
            "grid_gap": null,
            "grid_row": null,
            "grid_template_areas": null,
            "grid_template_columns": null,
            "grid_template_rows": null,
            "height": null,
            "justify_content": null,
            "justify_items": null,
            "left": null,
            "margin": null,
            "max_height": null,
            "max_width": null,
            "min_height": null,
            "min_width": null,
            "object_fit": null,
            "object_position": null,
            "order": null,
            "overflow": null,
            "padding": null,
            "right": null,
            "top": null,
            "visibility": null,
            "width": null
          }
        },
        "966a90bcb308489bbfb7c12f1a50c3de": {
          "model_module": "@jupyter-widgets/controls",
          "model_name": "ButtonStyleModel",
          "model_module_version": "2.0.0",
          "state": {
            "_model_module": "@jupyter-widgets/controls",
            "_model_module_version": "2.0.0",
            "_model_name": "ButtonStyleModel",
            "_view_count": null,
            "_view_module": "@jupyter-widgets/base",
            "_view_module_version": "2.0.0",
            "_view_name": "StyleView",
            "button_color": null,
            "font_family": null,
            "font_size": null,
            "font_style": null,
            "font_variant": null,
            "font_weight": null,
            "text_color": null,
            "text_decoration": null
          }
        },
        "40be612e3b5b436ba28481f7c217901e": {
          "model_module": "@jupyter-widgets/controls",
          "model_name": "TextareaModel",
          "model_module_version": "2.0.0",
          "state": {
            "_dom_classes": [],
            "_model_module": "@jupyter-widgets/controls",
            "_model_module_version": "2.0.0",
            "_model_name": "TextareaModel",
            "_view_count": null,
            "_view_module": "@jupyter-widgets/controls",
            "_view_module_version": "2.0.0",
            "_view_name": "TextareaView",
            "continuous_update": true,
            "description": "Answer with RAG:",
            "description_allow_html": false,
            "disabled": true,
            "layout": "IPY_MODEL_c4a8b9b421654c74a7377f369af01b32",
            "placeholder": "Answer with RAG will be displayed here",
            "rows": null,
            "style": "IPY_MODEL_cdfb5f8d7521432bafadbb17bce76063",
            "tabbable": null,
            "tooltip": null,
            "value": ""
          }
        },
        "c4a8b9b421654c74a7377f369af01b32": {
          "model_module": "@jupyter-widgets/base",
          "model_name": "LayoutModel",
          "model_module_version": "2.0.0",
          "state": {
            "_model_module": "@jupyter-widgets/base",
            "_model_module_version": "2.0.0",
            "_model_name": "LayoutModel",
            "_view_count": null,
            "_view_module": "@jupyter-widgets/base",
            "_view_module_version": "2.0.0",
            "_view_name": "LayoutView",
            "align_content": null,
            "align_items": null,
            "align_self": null,
            "border_bottom": null,
            "border_left": null,
            "border_right": null,
            "border_top": null,
            "bottom": null,
            "display": null,
            "flex": null,
            "flex_flow": null,
            "grid_area": null,
            "grid_auto_columns": null,
            "grid_auto_flow": null,
            "grid_auto_rows": null,
            "grid_column": null,
            "grid_gap": null,
            "grid_row": null,
            "grid_template_areas": null,
            "grid_template_columns": null,
            "grid_template_rows": null,
            "height": "200px",
            "justify_content": null,
            "justify_items": null,
            "left": null,
            "margin": null,
            "max_height": null,
            "max_width": null,
            "min_height": null,
            "min_width": null,
            "object_fit": null,
            "object_position": null,
            "order": null,
            "overflow": null,
            "padding": null,
            "right": null,
            "top": null,
            "visibility": null,
            "width": "600px"
          }
        },
        "cdfb5f8d7521432bafadbb17bce76063": {
          "model_module": "@jupyter-widgets/controls",
          "model_name": "TextStyleModel",
          "model_module_version": "2.0.0",
          "state": {
            "_model_module": "@jupyter-widgets/controls",
            "_model_module_version": "2.0.0",
            "_model_name": "TextStyleModel",
            "_view_count": null,
            "_view_module": "@jupyter-widgets/base",
            "_view_module_version": "2.0.0",
            "_view_name": "StyleView",
            "background": null,
            "description_width": "",
            "font_size": null,
            "text_color": null
          }
        },
        "19c3231e958f49d9b0a83aaadda269eb": {
          "model_module": "@jupyter-widgets/controls",
          "model_name": "TextareaModel",
          "model_module_version": "2.0.0",
          "state": {
            "_dom_classes": [],
            "_model_module": "@jupyter-widgets/controls",
            "_model_module_version": "2.0.0",
            "_model_name": "TextareaModel",
            "_view_count": null,
            "_view_module": "@jupyter-widgets/controls",
            "_view_module_version": "2.0.0",
            "_view_name": "TextareaView",
            "continuous_update": true,
            "description": "Answer without RAG:",
            "description_allow_html": false,
            "disabled": true,
            "layout": "IPY_MODEL_e8e29bc6859d4c12a1d690b0098da950",
            "placeholder": "Answer without RAG will be displayed here",
            "rows": null,
            "style": "IPY_MODEL_7c569020371648e999bb4d4c2a27324d",
            "tabbable": null,
            "tooltip": null,
            "value": ""
          }
        },
        "e8e29bc6859d4c12a1d690b0098da950": {
          "model_module": "@jupyter-widgets/base",
          "model_name": "LayoutModel",
          "model_module_version": "2.0.0",
          "state": {
            "_model_module": "@jupyter-widgets/base",
            "_model_module_version": "2.0.0",
            "_model_name": "LayoutModel",
            "_view_count": null,
            "_view_module": "@jupyter-widgets/base",
            "_view_module_version": "2.0.0",
            "_view_name": "LayoutView",
            "align_content": null,
            "align_items": null,
            "align_self": null,
            "border_bottom": null,
            "border_left": null,
            "border_right": null,
            "border_top": null,
            "bottom": null,
            "display": null,
            "flex": null,
            "flex_flow": null,
            "grid_area": null,
            "grid_auto_columns": null,
            "grid_auto_flow": null,
            "grid_auto_rows": null,
            "grid_column": null,
            "grid_gap": null,
            "grid_row": null,
            "grid_template_areas": null,
            "grid_template_columns": null,
            "grid_template_rows": null,
            "height": "200px",
            "justify_content": null,
            "justify_items": null,
            "left": null,
            "margin": null,
            "max_height": null,
            "max_width": null,
            "min_height": null,
            "min_width": null,
            "object_fit": null,
            "object_position": null,
            "order": null,
            "overflow": null,
            "padding": null,
            "right": null,
            "top": null,
            "visibility": null,
            "width": "600px"
          }
        },
        "7c569020371648e999bb4d4c2a27324d": {
          "model_module": "@jupyter-widgets/controls",
          "model_name": "TextStyleModel",
          "model_module_version": "2.0.0",
          "state": {
            "_model_module": "@jupyter-widgets/controls",
            "_model_module_version": "2.0.0",
            "_model_name": "TextStyleModel",
            "_view_count": null,
            "_view_module": "@jupyter-widgets/base",
            "_view_module_version": "2.0.0",
            "_view_name": "StyleView",
            "background": null,
            "description_width": "",
            "font_size": null,
            "text_color": null
          }
        }
      }
    },
    "accelerator": "GPU"
  },
  "cells": [
    {
      "cell_type": "markdown",
      "source": [
        "# MAKE SURE YOU ARE RUNNING THE GPU RUNTIME.\n",
        "\n",
        "You can change to the GPU runtime by Runtime > Change Runtime Type > T4 GPU."
      ],
      "metadata": {
        "id": "jRjWqeZ7AA88"
      }
    },
    {
      "cell_type": "markdown",
      "source": [
        "Confirm you have a GPU by running the below code."
      ],
      "metadata": {
        "id": "tVLg4M7wARzo"
      }
    },
    {
      "cell_type": "code",
      "source": [
        "!nvidia-smi"
      ],
      "metadata": {
        "id": "Xb2CW-yhAP3j"
      },
      "execution_count": null,
      "outputs": []
    },
    {
      "cell_type": "markdown",
      "source": [
        "Setup environment"
      ],
      "metadata": {
        "id": "zhXPS75JocTJ"
      }
    },
    {
      "cell_type": "code",
      "execution_count": null,
      "metadata": {
        "id": "KlI04lSCl3T9"
      },
      "outputs": [],
      "source": [
        "!CMAKE_ARGS=\"-DLLAMA_CUBLAS=on\" pip install llama-cpp-python\n",
        "!pip install langchain chromadb langchainhub"
      ]
    },
    {
      "cell_type": "markdown",
      "source": [
        "Download model. For this example, we are using CodeLLAMA 13B Instruct."
      ],
      "metadata": {
        "id": "hdyUWuUfoak5"
      }
    },
    {
      "cell_type": "code",
      "source": [
        "!wget https://huggingface.co/TheBloke/CodeLlama-13B-Instruct-GGUF/resolve/main/codellama-13b-instruct.Q4_K_M.gguf"
      ],
      "metadata": {
        "id": "KbEFtrCynIHu"
      },
      "execution_count": null,
      "outputs": []
    },
    {
      "cell_type": "markdown",
      "source": [
        "# If you already have the model downloaded, or want to save it run the following sections."
      ],
      "metadata": {
        "id": "2mBPCE6glSyC"
      }
    },
    {
      "cell_type": "markdown",
      "source": [
        "Enable Drive Connection by Clicking the Button at Files at tab."
      ],
      "metadata": {
        "id": "wRdKk3zvldmy"
      }
    },
    {
      "cell_type": "markdown",
      "source": [
        "Save Model to Drive"
      ],
      "metadata": {
        "id": "N8IbZ9KGlaeW"
      }
    },
    {
      "cell_type": "code",
      "source": [
        "!cp ./codellama-13b-instruct.Q4_K_M.gguf \"/content/drive/MyDrive/LLAMA Models/\""
      ],
      "metadata": {
        "id": "_NG-6VpOlSel"
      },
      "execution_count": null,
      "outputs": []
    },
    {
      "cell_type": "markdown",
      "source": [
        "Download Model from Drive"
      ],
      "metadata": {
        "id": "YIQDqEIxlrwz"
      }
    },
    {
      "cell_type": "code",
      "source": [
        "!cp \"/content/drive/MyDrive/LLAMA Models/codellama-13b-instruct.Q4_K_M.gguf\" ./codellama-13b-instruct.Q4_K_M.gguf"
      ],
      "metadata": {
        "id": "tgTz1PDnlrht"
      },
      "execution_count": null,
      "outputs": []
    },
    {
      "cell_type": "markdown",
      "source": [
        "# Prepare the document. For this example, we are using the LibGuide https://guides.nyu.edu/data\n",
        "\n",
        "Check here for more about this workflow: https://python.langchain.com/docs/use_cases/question_answering/"
      ],
      "metadata": {
        "id": "GcrQCO0DCxL-"
      }
    },
    {
      "cell_type": "code",
      "source": [
        "from langchain.document_loaders import WebBaseLoader\n",
        "from langchain.text_splitter import RecursiveCharacterTextSplitter\n",
        "\n",
        "loader = WebBaseLoader([\n",
        "    'https://guides.nyu.edu/data/home',\n",
        "    'https://guides.nyu.edu/data/llm',\n",
        "    'https://guides.nyu.edu/data/llm-overview',\n",
        "    'https://guides.nyu.edu/data/llm-bias',\n",
        "    'https://guides.nyu.edu/data/llm-research-creative-use',\n",
        "    'https://guides.nyu.edu/data/chatgpt',\n",
        "    'https://guides.nyu.edu/data/chatgpt-research',\n",
        "    'https://guides.nyu.edu/data/chatgpt-developer',\n",
        "    'https://guides.nyu.edu/data/chatgpt-visual-design',\n",
        "    'https://guides.nyu.edu/data/chatgpt-campus-life',\n",
        "    'https://guides.nyu.edu/data/emerging-ai',\n",
        "    'https://guides.nyu.edu/data/chatbots',\n",
        "    'https://guides.nyu.edu/data/ai-image-generation',\n",
        "    'https://guides.nyu.edu/data/ai-local',\n",
        "    'https://guides.nyu.edu/data/ai-teaching-and-learning',\n",
        "    'https://guides.nyu.edu/data/ai-citations',\n",
        "    'https://guides.nyu.edu/data/generative-ai',\n",
        "    'https://guides.nyu.edu/data/ai-governance',\n",
        "    'https://guides.nyu.edu/data/ai-business',\n",
        "    'https://guides.nyu.edu/data/css'\n",
        "])\n",
        "\n",
        "text_splitter = RecursiveCharacterTextSplitter(chunk_size=250, chunk_overlap=0)\n",
        "splits = text_splitter.split_documents(loader.load())"
      ],
      "metadata": {
        "id": "n6Y2eq33CzBF"
      },
      "execution_count": null,
      "outputs": []
    },
    {
      "cell_type": "markdown",
      "source": [
        "Initialize embedding LLM\n",
        "\n"
      ],
      "metadata": {
        "id": "Uz5fpNvfH7oB"
      }
    },
    {
      "cell_type": "code",
      "source": [
        "from langchain.embeddings import LlamaCppEmbeddings\n",
        "\n",
        "llm_embedding = LlamaCppEmbeddings(model_path=\"./codellama-13b-instruct.Q4_K_M.gguf\", n_ctx=512, n_gpu_layers=16)"
      ],
      "metadata": {
        "id": "2qfGPT-jIMCi"
      },
      "execution_count": null,
      "outputs": []
    },
    {
      "cell_type": "markdown",
      "source": [
        "## Create embeddings, this section will take a long time. You can also use the pre-created vectorstore if you skip to the next section."
      ],
      "metadata": {
        "id": "HnSZftLSkDym"
      }
    },
    {
      "cell_type": "code",
      "source": [
        "from langchain.vectorstores import Chroma\n",
        "\n",
        "vectorstore = Chroma.from_documents(documents=splits, embedding=llm_embedding)\n",
        "retriever = vectorstore.as_retriever()"
      ],
      "metadata": {
        "id": "tarIlXrLH5FA"
      },
      "execution_count": null,
      "outputs": []
    },
    {
      "cell_type": "markdown",
      "source": [
        "# Run the sections from here to Check VectorStore if you do not want to run the vectorstore creation. Either of the sections can be run."
      ],
      "metadata": {
        "id": "hHdH2kxwi7pM"
      }
    },
    {
      "cell_type": "markdown",
      "source": [
        "Download https://drive.google.com/file/d/1rHaIF3z8dJhdQpz6kKZGEKPnAJbqV4Wu/view?usp=sharing and upload to Files."
      ],
      "metadata": {
        "id": "d4lLu3FojuD1"
      }
    },
    {
      "cell_type": "markdown",
      "source": [
        "Extract"
      ],
      "metadata": {
        "id": "GY4hPognkUfM"
      }
    },
    {
      "cell_type": "code",
      "source": [
        "import zipfile\n",
        "\n",
        "zip_file_path = 'libguide.zip'\n",
        "\n",
        "# Extracting the content of zip file in the current directory\n",
        "with zipfile.ZipFile(zip_file_path, 'r') as zip_ref:\n",
        "    zip_ref.extractall('.')\n",
        "    print(f'Extracted all contents of {zip_file_path}')"
      ],
      "metadata": {
        "colab": {
          "base_uri": "https://localhost:8080/"
        },
        "id": "7i1iAnwyjDvA",
        "outputId": "bfe07a3e-8b5b-4451-9b70-a0bbe230cd07"
      },
      "execution_count": null,
      "outputs": [
        {
          "output_type": "stream",
          "name": "stdout",
          "text": [
            "Extracted all contents of libguide.zip\n"
          ]
        }
      ]
    },
    {
      "cell_type": "markdown",
      "source": [
        "Create vectorstore"
      ],
      "metadata": {
        "id": "h_sqatRhmlyF"
      }
    },
    {
      "cell_type": "code",
      "source": [
        "from langchain.vectorstores import Chroma\n",
        "\n",
        "vectorstore = Chroma(persist_directory=\"./libguide\", embedding_function=llm_embedding)\n",
        "retriever = vectorstore.as_retriever()"
      ],
      "metadata": {
        "id": "d47Ng9gmkThO"
      },
      "execution_count": null,
      "outputs": []
    },
    {
      "cell_type": "markdown",
      "source": [
        "# Check VectorStore"
      ],
      "metadata": {
        "id": "-yym0u0WksdR"
      }
    },
    {
      "cell_type": "code",
      "source": [
        "retriever.get_relevant_documents(\"ChatGPT\")"
      ],
      "metadata": {
        "id": "E0Km2NZPksKT"
      },
      "execution_count": null,
      "outputs": []
    },
    {
      "cell_type": "markdown",
      "source": [
        "Prepare LLM"
      ],
      "metadata": {
        "id": "EZRttQy0pzt9"
      }
    },
    {
      "cell_type": "code",
      "source": [
        "temperature = 0.1\n",
        "top_k = 40\n",
        "top_p = 0.9\n",
        "max_tokens = 512"
      ],
      "metadata": {
        "id": "qh_sMzlfKoDX"
      },
      "execution_count": null,
      "outputs": []
    },
    {
      "cell_type": "code",
      "source": [
        "from langchain.llms import LlamaCpp\n",
        "llm = LlamaCpp(model_path=\"./codellama-13b-instruct.Q4_K_M.gguf\", n_ctx=2048, use_mlock=True, n_gpu_layers=72, temperature=temperature, top_k=top_k, top_p=top_p, max_tokens=max_tokens, streaming=True)"
      ],
      "metadata": {
        "id": "r0UqTZeeqVz3"
      },
      "execution_count": null,
      "outputs": []
    },
    {
      "cell_type": "markdown",
      "source": [
        "Prepare RAG Chain"
      ],
      "metadata": {
        "id": "Z_gx52TTKJeJ"
      }
    },
    {
      "cell_type": "code",
      "source": [
        "from langchain import hub\n",
        "\n",
        "rag_prompt = hub.pull(\"rlm/rag-prompt\")"
      ],
      "metadata": {
        "id": "PS1ZAL6GKEm_"
      },
      "execution_count": null,
      "outputs": []
    },
    {
      "cell_type": "code",
      "source": [
        "from langchain.schema.runnable import RunnablePassthrough\n",
        "\n",
        "rag_chain = {\"context\": retriever, \"question\": RunnablePassthrough()} | rag_prompt | llm"
      ],
      "metadata": {
        "id": "SP91cPpGKInU"
      },
      "execution_count": null,
      "outputs": []
    },
    {
      "cell_type": "code",
      "source": [
        "import logging\n",
        "logging.basicConfig(level=logging.INFO)\n",
        "\n",
        "def infer_rag(text):\n",
        "\n",
        "    logging.info(\"Creating answer for the question:\" + text)\n",
        "\n",
        "    # response = rag_chain.invoke(text)\n",
        "\n",
        "    # logging.info(response)\n",
        "\n",
        "    # return response\n",
        "\n",
        "    response_iterator = rag_chain.stream(text)\n",
        "\n",
        "    return response_iterator"
      ],
      "metadata": {
        "id": "_bw4ZWjpohc5"
      },
      "execution_count": null,
      "outputs": []
    },
    {
      "cell_type": "code",
      "source": [
        "import logging\n",
        "logging.basicConfig(level=logging.INFO)\n",
        "\n",
        "def infer_llm(text):\n",
        "\n",
        "    logging.info(\"Trying to answer the question:\" + text)\n",
        "\n",
        "    # response = llm(prompt=text)\n",
        "\n",
        "    # # response_content = response[\"choices\"][0][\"text\"]\n",
        "\n",
        "    # logging.info(response)\n",
        "\n",
        "    # return response\n",
        "\n",
        "    response_iterator = llm.stream(text)\n",
        "\n",
        "    return response_iterator"
      ],
      "metadata": {
        "id": "6b2g8-d_nXF2"
      },
      "execution_count": null,
      "outputs": []
    },
    {
      "cell_type": "code",
      "source": [
        "import ipywidgets as widgets\n",
        "from IPython.display import display, clear_output\n",
        "import time\n",
        "\n",
        "# Text widget for input\n",
        "input_text = widgets.Textarea(\n",
        "    value='',\n",
        "    placeholder='Question',\n",
        "    description='Input:',\n",
        "    disabled=False,\n",
        "    layout={'height': '100px', 'width': '600px'}\n",
        ")\n",
        "\n",
        "# Button to execute function\n",
        "execute_button = widgets.Button(description=\"Generate\")\n",
        "\n",
        "progress_bar = widgets.IntProgress(\n",
        "    value=0,\n",
        "    min=0,\n",
        "    max=100,\n",
        "    description='Progress:',\n",
        "    bar_style='', # 'success', 'info', 'warning', 'danger' or ''\n",
        "    orientation='horizontal'\n",
        ")\n",
        "\n",
        "\n",
        "# Textarea widgets to display the results\n",
        "output1 = widgets.Textarea(\n",
        "    value='',\n",
        "    placeholder='Answer with RAG will be displayed here',\n",
        "    description='Answer with RAG:',\n",
        "    disabled=True,\n",
        "    layout={'height': '200px', 'width': '600px'}  # Adjust height and width as needed\n",
        ")\n",
        "\n",
        "output2 = widgets.Textarea(\n",
        "    value='',\n",
        "    placeholder='Answer without RAG will be displayed here',\n",
        "    description='Answer without RAG:',\n",
        "    disabled=True,\n",
        "    layout={'height': '200px', 'width': '600px'}  # Adjust height and width as needed\n",
        ")\n",
        "\n",
        "# Function to be executed\n",
        "def execute_function(change):\n",
        "    progress_bar.value = 0\n",
        "    progress_bar.max = 3  # Set this to a high number for a smooth progress bar\n",
        "    progress_bar.style.bar_color = 'blue'\n",
        "    display(progress_bar)\n",
        "\n",
        "    # Step 1: You might want to update progress bar here\n",
        "    progress_bar.value += 1\n",
        "\n",
        "    # output_text_rag = infer_rag(input_text.value)\n",
        "\n",
        "    # output1.value = output_text_rag\n",
        "\n",
        "    for completion in infer_rag(input_text.value):\n",
        "      output1.value += completion\n",
        "\n",
        "    # Step 2: Another update to the progress bar\n",
        "    progress_bar.value += 1\n",
        "\n",
        "    # output_text_llm = infer_llm(input_text.value)\n",
        "\n",
        "    # output2.value = output_text_llm\n",
        "\n",
        "    for completion in infer_llm(input_text.value):\n",
        "      output2.value += completion\n",
        "\n",
        "    # Step 3: Final update to the progress bar\n",
        "    progress_bar.value += 1\n",
        "    progress_bar.bar_style = 'success'\n",
        "\n",
        "# Attach the function to the button\n",
        "execute_button.on_click(execute_function)\n",
        "\n",
        "# Display widgets\n",
        "display(input_text, execute_button, output1, output2)\n"
      ],
      "metadata": {
        "colab": {
          "base_uri": "https://localhost:8080/",
          "height": 49,
          "referenced_widgets": [
            "cab81d14036748a08ba417515835b2b0",
            "1a8fedf021d440c69bb295fad0c42135",
            "d0e3521bb8134aa7afcef7e4e821af19",
            "352d767d583541f7a4d1fb12d6ccb325",
            "64b62636c95a44a3b38c962b25b97511",
            "966a90bcb308489bbfb7c12f1a50c3de",
            "40be612e3b5b436ba28481f7c217901e",
            "c4a8b9b421654c74a7377f369af01b32",
            "cdfb5f8d7521432bafadbb17bce76063",
            "19c3231e958f49d9b0a83aaadda269eb",
            "e8e29bc6859d4c12a1d690b0098da950",
            "7c569020371648e999bb4d4c2a27324d"
          ]
        },
        "id": "no1IPyzyte0k",
        "outputId": "8d062335-ab0c-45d0-98db-2abd32c6fe5c"
      },
      "execution_count": null,
      "outputs": [
        {
          "output_type": "display_data",
          "data": {
            "text/plain": [
              "Textarea(value='', description='Input:', layout=Layout(height='100px', width='600px'), placeholder='Question')"
            ],
            "application/vnd.jupyter.widget-view+json": {
              "version_major": 2,
              "version_minor": 0,
              "model_id": "cab81d14036748a08ba417515835b2b0"
            }
          },
          "metadata": {}
        },
        {
          "output_type": "display_data",
          "data": {
            "text/plain": [
              "Button(description='Generate', style=ButtonStyle())"
            ],
            "application/vnd.jupyter.widget-view+json": {
              "version_major": 2,
              "version_minor": 0,
              "model_id": "352d767d583541f7a4d1fb12d6ccb325"
            }
          },
          "metadata": {}
        },
        {
          "output_type": "display_data",
          "data": {
            "text/plain": [
              "Textarea(value='', description='Answer with RAG:', disabled=True, layout=Layout(height='200px', width='600px')…"
            ],
            "application/vnd.jupyter.widget-view+json": {
              "version_major": 2,
              "version_minor": 0,
              "model_id": "40be612e3b5b436ba28481f7c217901e"
            }
          },
          "metadata": {}
        },
        {
          "output_type": "display_data",
          "data": {
            "text/plain": [
              "Textarea(value='', description='Answer without RAG:', disabled=True, layout=Layout(height='200px', width='600p…"
            ],
            "application/vnd.jupyter.widget-view+json": {
              "version_major": 2,
              "version_minor": 0,
              "model_id": "19c3231e958f49d9b0a83aaadda269eb"
            }
          },
          "metadata": {}
        }
      ]
    },
    {
      "cell_type": "markdown",
      "source": [
        "For example\n",
        "\n",
        "What is LLM?"
      ],
      "metadata": {
        "id": "OuQWaOrm1YWN"
      }
    }
  ]
}